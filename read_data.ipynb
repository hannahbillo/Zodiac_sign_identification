{
 "cells": [
  {
   "cell_type": "code",
   "execution_count": 25,
   "metadata": {},
   "outputs": [
    {
     "name": "stderr",
     "output_type": "stream",
     "text": [
      "/Users/chizhia1/Documents/Data Mining Project/venv/lib/python3.10/site-packages/tqdm/auto.py:21: TqdmWarning: IProgress not found. Please update jupyter and ipywidgets. See https://ipywidgets.readthedocs.io/en/stable/user_install.html\n",
      "  from .autonotebook import tqdm as notebook_tqdm\n"
     ]
    }
   ],
   "source": [
    "import pandas as pd\n",
    "import os\n",
    "from bs4 import BeautifulSoup\n",
    "from tqdm.auto import tqdm"
   ]
  },
  {
   "cell_type": "code",
   "execution_count": 28,
   "metadata": {},
   "outputs": [],
   "source": [
    "blog_files = [filename for filename in os.listdir('blogs') if filename.endswith('.xml')]\n",
    "blogs_df = pd.DataFrame(columns=['author_id', \n",
    "                                 'sex', \n",
    "                                 'age', \n",
    "                                 'occupation',\n",
    "                                 'zodiac_sign',\n",
    "                                 'post'])"
   ]
  },
  {
   "cell_type": "code",
   "execution_count": 29,
   "metadata": {},
   "outputs": [
    {
     "name": "stderr",
     "output_type": "stream",
     "text": [
      "100%|██████████| 19319/19319 [02:17<00:00, 140.06it/s]\n"
     ]
    }
   ],
   "source": [
    "def parse_name(filename):\n",
    "    idx, sex, age, occupation, sign, _ = filename.split('.')\n",
    "    return idx, sex, age, occupation, sign\n",
    "\n",
    "\n",
    "posts_dict = {'author_id': [], \n",
    "              'sex': [], \n",
    "              'age': [], \n",
    "              'occupation': [],\n",
    "              'zodiac_sign': [],\n",
    "              'post': []\n",
    "              }\n",
    "\n",
    "for filename in tqdm(blog_files):\n",
    "    author_id, sex, age, occupation, sign = parse_name(filename)\n",
    "    \n",
    "    try:\n",
    "        with open('./blogs/'+filename, 'r', encoding='windows-1251') as f:\n",
    "            data = f.read()\n",
    "    except UnicodeDecodeError:\n",
    "        with open('./blogs/'+filename, 'r', encoding='cp437') as f:\n",
    "            data = f.read()\n",
    "    \n",
    "    bs_data = BeautifulSoup(data, \"xml\")\n",
    "    posts = bs_data.find_all('post')\n",
    "\n",
    "    for post in posts:\n",
    "        posts_dict['author_id'].append(author_id)\n",
    "        posts_dict['sex'].append(sex)\n",
    "        posts_dict['age'].append(age)\n",
    "        posts_dict['occupation'].append(occupation)\n",
    "        posts_dict['zodiac_sign'].append(sign)\n",
    "        posts_dict['post'].append(post.text)\n"
   ]
  },
  {
   "cell_type": "code",
   "execution_count": 30,
   "metadata": {},
   "outputs": [],
   "source": [
    "posts_df = pd.DataFrame.from_dict(posts_dict)"
   ]
  },
  {
   "cell_type": "code",
   "execution_count": 31,
   "metadata": {},
   "outputs": [
    {
     "data": {
      "text/html": [
       "<div>\n",
       "<style scoped>\n",
       "    .dataframe tbody tr th:only-of-type {\n",
       "        vertical-align: middle;\n",
       "    }\n",
       "\n",
       "    .dataframe tbody tr th {\n",
       "        vertical-align: top;\n",
       "    }\n",
       "\n",
       "    .dataframe thead th {\n",
       "        text-align: right;\n",
       "    }\n",
       "</style>\n",
       "<table border=\"1\" class=\"dataframe\">\n",
       "  <thead>\n",
       "    <tr style=\"text-align: right;\">\n",
       "      <th></th>\n",
       "      <th>author_id</th>\n",
       "      <th>sex</th>\n",
       "      <th>age</th>\n",
       "      <th>occupation</th>\n",
       "      <th>zodiac_sign</th>\n",
       "      <th>post</th>\n",
       "    </tr>\n",
       "  </thead>\n",
       "  <tbody>\n",
       "    <tr>\n",
       "      <th>0</th>\n",
       "      <td>4162441</td>\n",
       "      <td>male</td>\n",
       "      <td>16</td>\n",
       "      <td>Student</td>\n",
       "      <td>Sagittarius</td>\n",
       "      <td>\\n\\n\\t \\n         DESTINY...       you might n...</td>\n",
       "    </tr>\n",
       "    <tr>\n",
       "      <th>1</th>\n",
       "      <td>4162441</td>\n",
       "      <td>male</td>\n",
       "      <td>16</td>\n",
       "      <td>Student</td>\n",
       "      <td>Sagittarius</td>\n",
       "      <td>\\n\\n\\t \\n         DEAR ANGEL..      you say it...</td>\n",
       "    </tr>\n",
       "    <tr>\n",
       "      <th>2</th>\n",
       "      <td>4162441</td>\n",
       "      <td>male</td>\n",
       "      <td>16</td>\n",
       "      <td>Student</td>\n",
       "      <td>Sagittarius</td>\n",
       "      <td>\\n\\n\\t \\n      MAIN AUR MERI TANHAI (jagjeet s...</td>\n",
       "    </tr>\n",
       "    <tr>\n",
       "      <th>3</th>\n",
       "      <td>4162441</td>\n",
       "      <td>male</td>\n",
       "      <td>16</td>\n",
       "      <td>Student</td>\n",
       "      <td>Sagittarius</td>\n",
       "      <td>\\n\\n\\t \\n      mail addressrs(s)  urlLink http...</td>\n",
       "    </tr>\n",
       "    <tr>\n",
       "      <th>4</th>\n",
       "      <td>4162441</td>\n",
       "      <td>male</td>\n",
       "      <td>16</td>\n",
       "      <td>Student</td>\n",
       "      <td>Sagittarius</td>\n",
       "      <td>\\n\\n\\t \\n      RAP- ALLRISE so stand back caus...</td>\n",
       "    </tr>\n",
       "  </tbody>\n",
       "</table>\n",
       "</div>"
      ],
      "text/plain": [
       "  author_id   sex age occupation  zodiac_sign  \\\n",
       "0   4162441  male  16    Student  Sagittarius   \n",
       "1   4162441  male  16    Student  Sagittarius   \n",
       "2   4162441  male  16    Student  Sagittarius   \n",
       "3   4162441  male  16    Student  Sagittarius   \n",
       "4   4162441  male  16    Student  Sagittarius   \n",
       "\n",
       "                                                post  \n",
       "0  \\n\\n\\t \\n         DESTINY...       you might n...  \n",
       "1  \\n\\n\\t \\n         DEAR ANGEL..      you say it...  \n",
       "2  \\n\\n\\t \\n      MAIN AUR MERI TANHAI (jagjeet s...  \n",
       "3  \\n\\n\\t \\n      mail addressrs(s)  urlLink http...  \n",
       "4  \\n\\n\\t \\n      RAP- ALLRISE so stand back caus...  "
      ]
     },
     "execution_count": 31,
     "metadata": {},
     "output_type": "execute_result"
    }
   ],
   "source": [
    "posts_df.head()"
   ]
  },
  {
   "cell_type": "code",
   "execution_count": 32,
   "metadata": {},
   "outputs": [
    {
     "data": {
      "text/html": [
       "<div>\n",
       "<style scoped>\n",
       "    .dataframe tbody tr th:only-of-type {\n",
       "        vertical-align: middle;\n",
       "    }\n",
       "\n",
       "    .dataframe tbody tr th {\n",
       "        vertical-align: top;\n",
       "    }\n",
       "\n",
       "    .dataframe thead th {\n",
       "        text-align: right;\n",
       "    }\n",
       "</style>\n",
       "<table border=\"1\" class=\"dataframe\">\n",
       "  <thead>\n",
       "    <tr style=\"text-align: right;\">\n",
       "      <th></th>\n",
       "      <th>author_id</th>\n",
       "      <th>sex</th>\n",
       "      <th>age</th>\n",
       "      <th>occupation</th>\n",
       "      <th>zodiac_sign</th>\n",
       "      <th>post</th>\n",
       "    </tr>\n",
       "  </thead>\n",
       "  <tbody>\n",
       "    <tr>\n",
       "      <th>659350</th>\n",
       "      <td>1883213</td>\n",
       "      <td>male</td>\n",
       "      <td>23</td>\n",
       "      <td>Manufacturing</td>\n",
       "      <td>Cancer</td>\n",
       "      <td>\\n\\n\\t \\n      QUITE SOMETIME  Welcome dear re...</td>\n",
       "    </tr>\n",
       "    <tr>\n",
       "      <th>659351</th>\n",
       "      <td>1883213</td>\n",
       "      <td>male</td>\n",
       "      <td>23</td>\n",
       "      <td>Manufacturing</td>\n",
       "      <td>Cancer</td>\n",
       "      <td>\\n\\n\\t \\n      THINGS MORE IMPORTANT THAN LOOK...</td>\n",
       "    </tr>\n",
       "    <tr>\n",
       "      <th>659352</th>\n",
       "      <td>1883213</td>\n",
       "      <td>male</td>\n",
       "      <td>23</td>\n",
       "      <td>Manufacturing</td>\n",
       "      <td>Cancer</td>\n",
       "      <td>\\n\\n\\t \\n      MOVIES ABOUT MOVIE WITH MOVIES ...</td>\n",
       "    </tr>\n",
       "    <tr>\n",
       "      <th>659353</th>\n",
       "      <td>1883213</td>\n",
       "      <td>male</td>\n",
       "      <td>23</td>\n",
       "      <td>Manufacturing</td>\n",
       "      <td>Cancer</td>\n",
       "      <td>\\n\\n\\t \\n      MOVIES ABOUT MOVIE WITH MOVIES ...</td>\n",
       "    </tr>\n",
       "    <tr>\n",
       "      <th>659354</th>\n",
       "      <td>1883213</td>\n",
       "      <td>male</td>\n",
       "      <td>23</td>\n",
       "      <td>Manufacturing</td>\n",
       "      <td>Cancer</td>\n",
       "      <td>\\n\\n\\t \\n      MORGAN WIXSON THEATER   Eventua...</td>\n",
       "    </tr>\n",
       "  </tbody>\n",
       "</table>\n",
       "</div>"
      ],
      "text/plain": [
       "       author_id   sex age     occupation zodiac_sign  \\\n",
       "659350   1883213  male  23  Manufacturing      Cancer   \n",
       "659351   1883213  male  23  Manufacturing      Cancer   \n",
       "659352   1883213  male  23  Manufacturing      Cancer   \n",
       "659353   1883213  male  23  Manufacturing      Cancer   \n",
       "659354   1883213  male  23  Manufacturing      Cancer   \n",
       "\n",
       "                                                     post  \n",
       "659350  \\n\\n\\t \\n      QUITE SOMETIME  Welcome dear re...  \n",
       "659351  \\n\\n\\t \\n      THINGS MORE IMPORTANT THAN LOOK...  \n",
       "659352  \\n\\n\\t \\n      MOVIES ABOUT MOVIE WITH MOVIES ...  \n",
       "659353  \\n\\n\\t \\n      MOVIES ABOUT MOVIE WITH MOVIES ...  \n",
       "659354  \\n\\n\\t \\n      MORGAN WIXSON THEATER   Eventua...  "
      ]
     },
     "execution_count": 32,
     "metadata": {},
     "output_type": "execute_result"
    }
   ],
   "source": [
    "posts_df.tail()\n"
   ]
  },
  {
   "cell_type": "code",
   "execution_count": null,
   "metadata": {},
   "outputs": [],
   "source": []
  }
 ],
 "metadata": {
  "kernelspec": {
   "display_name": "venv",
   "language": "python",
   "name": "python3"
  },
  "language_info": {
   "codemirror_mode": {
    "name": "ipython",
    "version": 3
   },
   "file_extension": ".py",
   "mimetype": "text/x-python",
   "name": "python",
   "nbconvert_exporter": "python",
   "pygments_lexer": "ipython3",
   "version": "3.10.9"
  },
  "orig_nbformat": 4
 },
 "nbformat": 4,
 "nbformat_minor": 2
}
