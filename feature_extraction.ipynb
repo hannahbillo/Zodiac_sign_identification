{
 "cells": [
  {
   "cell_type": "code",
   "execution_count": 30,
   "metadata": {},
   "outputs": [],
   "source": [
    "import pandas as pd\n",
    "import os\n",
    "from bs4 import BeautifulSoup\n",
    "from tqdm.auto import tqdm"
   ]
  },
  {
   "cell_type": "code",
   "execution_count": 33,
   "metadata": {},
   "outputs": [],
   "source": [
    "blog_files = [filename for filename in os.listdir('../blogs') if filename.endswith('.xml')]\n",
    "blogs_df = pd.DataFrame(columns=['author_id', \n",
    "                                 'sex', \n",
    "                                 'age', \n",
    "                                 'occupation',\n",
    "                                 'zodiac_sign',\n",
    "                                 'post'])"
   ]
  },
  {
   "cell_type": "code",
   "execution_count": 35,
   "metadata": {},
   "outputs": [
    {
     "name": "stderr",
     "output_type": "stream",
     "text": [
      "100%|██████████| 19319/19319 [02:26<00:00, 131.45it/s]\n"
     ]
    }
   ],
   "source": [
    "def parse_name(filename):\n",
    "    idx, sex, age, occupation, sign, _ = filename.split('.')\n",
    "    return idx, sex, age, occupation, sign\n",
    "\n",
    "\n",
    "posts_dict = {'author_id': [], \n",
    "              'sex': [], \n",
    "              'age': [], \n",
    "              'occupation': [],\n",
    "              'zodiac_sign': [],\n",
    "              'post': []\n",
    "              }\n",
    "\n",
    "for filename in tqdm(blog_files):\n",
    "    author_id, sex, age, occupation, sign = parse_name(filename)\n",
    "    \n",
    "    try:\n",
    "        with open('../blogs/'+filename, 'r', encoding='windows-1251') as f:\n",
    "            data = f.read()\n",
    "    except UnicodeDecodeError:\n",
    "        with open('../blogs/'+filename, 'r', encoding='cp437') as f:\n",
    "            data = f.read()\n",
    "    \n",
    "    bs_data = BeautifulSoup(data, \"xml\")\n",
    "    posts = bs_data.find_all('post')\n",
    "\n",
    "    for post in posts:\n",
    "        posts_dict['author_id'].append(author_id)\n",
    "        posts_dict['sex'].append(sex)\n",
    "        posts_dict['age'].append(age)\n",
    "        posts_dict['occupation'].append(occupation)\n",
    "        posts_dict['zodiac_sign'].append(sign)\n",
    "        posts_dict['post'].append(post.text)\n"
   ]
  },
  {
   "cell_type": "code",
   "execution_count": 36,
   "metadata": {},
   "outputs": [],
   "source": [
    "posts_df = pd.DataFrame.from_dict(posts_dict)"
   ]
  },
  {
   "cell_type": "code",
   "execution_count": 37,
   "metadata": {},
   "outputs": [
    {
     "data": {
      "text/html": [
       "<div>\n",
       "<style scoped>\n",
       "    .dataframe tbody tr th:only-of-type {\n",
       "        vertical-align: middle;\n",
       "    }\n",
       "\n",
       "    .dataframe tbody tr th {\n",
       "        vertical-align: top;\n",
       "    }\n",
       "\n",
       "    .dataframe thead th {\n",
       "        text-align: right;\n",
       "    }\n",
       "</style>\n",
       "<table border=\"1\" class=\"dataframe\">\n",
       "  <thead>\n",
       "    <tr style=\"text-align: right;\">\n",
       "      <th></th>\n",
       "      <th>author_id</th>\n",
       "      <th>sex</th>\n",
       "      <th>age</th>\n",
       "      <th>occupation</th>\n",
       "      <th>zodiac_sign</th>\n",
       "      <th>post</th>\n",
       "    </tr>\n",
       "  </thead>\n",
       "  <tbody>\n",
       "    <tr>\n",
       "      <th>0</th>\n",
       "      <td>4162441</td>\n",
       "      <td>male</td>\n",
       "      <td>16</td>\n",
       "      <td>Student</td>\n",
       "      <td>Sagittarius</td>\n",
       "      <td>\\n\\n\\t \\n         DESTINY...       you might n...</td>\n",
       "    </tr>\n",
       "    <tr>\n",
       "      <th>1</th>\n",
       "      <td>4162441</td>\n",
       "      <td>male</td>\n",
       "      <td>16</td>\n",
       "      <td>Student</td>\n",
       "      <td>Sagittarius</td>\n",
       "      <td>\\n\\n\\t \\n         DEAR ANGEL..      you say it...</td>\n",
       "    </tr>\n",
       "    <tr>\n",
       "      <th>2</th>\n",
       "      <td>4162441</td>\n",
       "      <td>male</td>\n",
       "      <td>16</td>\n",
       "      <td>Student</td>\n",
       "      <td>Sagittarius</td>\n",
       "      <td>\\n\\n\\t \\n      MAIN AUR MERI TANHAI (jagjeet s...</td>\n",
       "    </tr>\n",
       "    <tr>\n",
       "      <th>3</th>\n",
       "      <td>4162441</td>\n",
       "      <td>male</td>\n",
       "      <td>16</td>\n",
       "      <td>Student</td>\n",
       "      <td>Sagittarius</td>\n",
       "      <td>\\n\\n\\t \\n      mail addressrs(s)  urlLink http...</td>\n",
       "    </tr>\n",
       "    <tr>\n",
       "      <th>4</th>\n",
       "      <td>4162441</td>\n",
       "      <td>male</td>\n",
       "      <td>16</td>\n",
       "      <td>Student</td>\n",
       "      <td>Sagittarius</td>\n",
       "      <td>\\n\\n\\t \\n      RAP- ALLRISE so stand back caus...</td>\n",
       "    </tr>\n",
       "  </tbody>\n",
       "</table>\n",
       "</div>"
      ],
      "text/plain": [
       "  author_id   sex age occupation  zodiac_sign  \\\n",
       "0   4162441  male  16    Student  Sagittarius   \n",
       "1   4162441  male  16    Student  Sagittarius   \n",
       "2   4162441  male  16    Student  Sagittarius   \n",
       "3   4162441  male  16    Student  Sagittarius   \n",
       "4   4162441  male  16    Student  Sagittarius   \n",
       "\n",
       "                                                post  \n",
       "0  \\n\\n\\t \\n         DESTINY...       you might n...  \n",
       "1  \\n\\n\\t \\n         DEAR ANGEL..      you say it...  \n",
       "2  \\n\\n\\t \\n      MAIN AUR MERI TANHAI (jagjeet s...  \n",
       "3  \\n\\n\\t \\n      mail addressrs(s)  urlLink http...  \n",
       "4  \\n\\n\\t \\n      RAP- ALLRISE so stand back caus...  "
      ]
     },
     "execution_count": 37,
     "metadata": {},
     "output_type": "execute_result"
    }
   ],
   "source": [
    "posts_df.head()"
   ]
  },
  {
   "cell_type": "code",
   "execution_count": 38,
   "metadata": {},
   "outputs": [
    {
     "data": {
      "text/html": [
       "<div>\n",
       "<style scoped>\n",
       "    .dataframe tbody tr th:only-of-type {\n",
       "        vertical-align: middle;\n",
       "    }\n",
       "\n",
       "    .dataframe tbody tr th {\n",
       "        vertical-align: top;\n",
       "    }\n",
       "\n",
       "    .dataframe thead th {\n",
       "        text-align: right;\n",
       "    }\n",
       "</style>\n",
       "<table border=\"1\" class=\"dataframe\">\n",
       "  <thead>\n",
       "    <tr style=\"text-align: right;\">\n",
       "      <th></th>\n",
       "      <th>author_id</th>\n",
       "      <th>sex</th>\n",
       "      <th>age</th>\n",
       "      <th>occupation</th>\n",
       "      <th>zodiac_sign</th>\n",
       "      <th>post</th>\n",
       "    </tr>\n",
       "  </thead>\n",
       "  <tbody>\n",
       "    <tr>\n",
       "      <th>659350</th>\n",
       "      <td>1883213</td>\n",
       "      <td>male</td>\n",
       "      <td>23</td>\n",
       "      <td>Manufacturing</td>\n",
       "      <td>Cancer</td>\n",
       "      <td>\\n\\n\\t \\n      QUITE SOMETIME  Welcome dear re...</td>\n",
       "    </tr>\n",
       "    <tr>\n",
       "      <th>659351</th>\n",
       "      <td>1883213</td>\n",
       "      <td>male</td>\n",
       "      <td>23</td>\n",
       "      <td>Manufacturing</td>\n",
       "      <td>Cancer</td>\n",
       "      <td>\\n\\n\\t \\n      THINGS MORE IMPORTANT THAN LOOK...</td>\n",
       "    </tr>\n",
       "    <tr>\n",
       "      <th>659352</th>\n",
       "      <td>1883213</td>\n",
       "      <td>male</td>\n",
       "      <td>23</td>\n",
       "      <td>Manufacturing</td>\n",
       "      <td>Cancer</td>\n",
       "      <td>\\n\\n\\t \\n      MOVIES ABOUT MOVIE WITH MOVIES ...</td>\n",
       "    </tr>\n",
       "    <tr>\n",
       "      <th>659353</th>\n",
       "      <td>1883213</td>\n",
       "      <td>male</td>\n",
       "      <td>23</td>\n",
       "      <td>Manufacturing</td>\n",
       "      <td>Cancer</td>\n",
       "      <td>\\n\\n\\t \\n      MOVIES ABOUT MOVIE WITH MOVIES ...</td>\n",
       "    </tr>\n",
       "    <tr>\n",
       "      <th>659354</th>\n",
       "      <td>1883213</td>\n",
       "      <td>male</td>\n",
       "      <td>23</td>\n",
       "      <td>Manufacturing</td>\n",
       "      <td>Cancer</td>\n",
       "      <td>\\n\\n\\t \\n      MORGAN WIXSON THEATER   Eventua...</td>\n",
       "    </tr>\n",
       "  </tbody>\n",
       "</table>\n",
       "</div>"
      ],
      "text/plain": [
       "       author_id   sex age     occupation zodiac_sign  \\\n",
       "659350   1883213  male  23  Manufacturing      Cancer   \n",
       "659351   1883213  male  23  Manufacturing      Cancer   \n",
       "659352   1883213  male  23  Manufacturing      Cancer   \n",
       "659353   1883213  male  23  Manufacturing      Cancer   \n",
       "659354   1883213  male  23  Manufacturing      Cancer   \n",
       "\n",
       "                                                     post  \n",
       "659350  \\n\\n\\t \\n      QUITE SOMETIME  Welcome dear re...  \n",
       "659351  \\n\\n\\t \\n      THINGS MORE IMPORTANT THAN LOOK...  \n",
       "659352  \\n\\n\\t \\n      MOVIES ABOUT MOVIE WITH MOVIES ...  \n",
       "659353  \\n\\n\\t \\n      MOVIES ABOUT MOVIE WITH MOVIES ...  \n",
       "659354  \\n\\n\\t \\n      MORGAN WIXSON THEATER   Eventua...  "
      ]
     },
     "execution_count": 38,
     "metadata": {},
     "output_type": "execute_result"
    }
   ],
   "source": [
    "posts_df.tail()\n"
   ]
  },
  {
   "cell_type": "markdown",
   "metadata": {},
   "source": [
    "- Average relative frequency of personal 1st person pronouns in the texts\n",
    "- Average number of exclamation points, question marks, ellipses, and emojis used in the texts\n",
    "- The average length of the text in the blog posts"
   ]
  },
  {
   "cell_type": "code",
   "execution_count": 39,
   "metadata": {},
   "outputs": [],
   "source": [
    "import spacy\n",
    "\n",
    "nlp = spacy.load(\"en_core_web_sm\")\n",
    "\n",
    "from spacy.tokenizer import Tokenizer\n"
   ]
  },
  {
   "cell_type": "code",
   "execution_count": 50,
   "metadata": {},
   "outputs": [
    {
     "name": "stderr",
     "output_type": "stream",
     "text": [
      "[nltk_data] Downloading package punkt to /Users/chizhia1/nltk_data...\n",
      "[nltk_data]   Package punkt is already up-to-date!\n"
     ]
    },
    {
     "data": {
      "text/plain": [
       "True"
      ]
     },
     "execution_count": 50,
     "metadata": {},
     "output_type": "execute_result"
    }
   ],
   "source": [
    "import re\n",
    "from nltk.tokenize import sent_tokenize, word_tokenize\n",
    "import nltk\n",
    "\n",
    "nltk.download('punkt')"
   ]
  },
  {
   "cell_type": "code",
   "execution_count": 53,
   "metadata": {},
   "outputs": [
    {
     "data": {
      "text/plain": [
       "[':))', ';((', '??????', '...']"
      ]
     },
     "execution_count": 53,
     "metadata": {},
     "output_type": "execute_result"
    }
   ],
   "source": [
    "expressive_punct_re = \"(!+|\\?+|:\\)+|;\\)+|\\.\\.\\.|:\\(+|;\\(+)\"\n",
    "re.findall(expressive_punct_re, \"I'd love cats :)) But they are ;(( wtw?????? why.....\")\n"
   ]
  },
  {
   "cell_type": "code",
   "execution_count": 68,
   "metadata": {},
   "outputs": [],
   "source": [
    "def analyze_text(text):\n",
    "    expressive_punct_re = \"(!+|\\?+|:\\)+|;\\)+|\\.\\.\\.|:\\(+|;\\(+)\"\n",
    "\n",
    "    pers_pronouns = ['i', 'me', 'myself', 'mine']\n",
    "\n",
    "    tokens = word_tokenize(text)\n",
    "    token_count = len(tokens)\n",
    "    sent_count = len(sent_tokenize(text))\n",
    "    pron_count = 0\n",
    "    punct_count = 0\n",
    "\n",
    "    for token in tokens:\n",
    "        if token.lower() in pers_pronouns:\n",
    "            pron_count += 1\n",
    "        \n",
    "    puncts = re.findall(expressive_punct_re, text)\n",
    "    punct_count = len(puncts)\n",
    "        \n",
    "    return [token_count, sent_count, pron_count, punct_count]\n"
   ]
  },
  {
   "cell_type": "code",
   "execution_count": 69,
   "metadata": {},
   "outputs": [],
   "source": [
    "tqdm.pandas()"
   ]
  },
  {
   "cell_type": "code",
   "execution_count": 70,
   "metadata": {},
   "outputs": [
    {
     "name": "stderr",
     "output_type": "stream",
     "text": [
      "  0%|          | 0/659355 [00:00<?, ?it/s]"
     ]
    },
    {
     "name": "stderr",
     "output_type": "stream",
     "text": [
      "100%|██████████| 659355/659355 [19:26<00:00, 565.13it/s]  \n"
     ]
    }
   ],
   "source": [
    "posts_df['all_features'] = posts_df.post.progress_apply(analyze_text)"
   ]
  },
  {
   "cell_type": "code",
   "execution_count": 71,
   "metadata": {},
   "outputs": [
    {
     "data": {
      "text/html": [
       "<div>\n",
       "<style scoped>\n",
       "    .dataframe tbody tr th:only-of-type {\n",
       "        vertical-align: middle;\n",
       "    }\n",
       "\n",
       "    .dataframe tbody tr th {\n",
       "        vertical-align: top;\n",
       "    }\n",
       "\n",
       "    .dataframe thead th {\n",
       "        text-align: right;\n",
       "    }\n",
       "</style>\n",
       "<table border=\"1\" class=\"dataframe\">\n",
       "  <thead>\n",
       "    <tr style=\"text-align: right;\">\n",
       "      <th></th>\n",
       "      <th>author_id</th>\n",
       "      <th>sex</th>\n",
       "      <th>age</th>\n",
       "      <th>occupation</th>\n",
       "      <th>zodiac_sign</th>\n",
       "      <th>post</th>\n",
       "      <th>all_features</th>\n",
       "    </tr>\n",
       "  </thead>\n",
       "  <tbody>\n",
       "    <tr>\n",
       "      <th>0</th>\n",
       "      <td>4162441</td>\n",
       "      <td>male</td>\n",
       "      <td>16</td>\n",
       "      <td>Student</td>\n",
       "      <td>Sagittarius</td>\n",
       "      <td>\\n\\n\\t \\n         DESTINY...       you might n...</td>\n",
       "      <td>[169, 7, 22, 4]</td>\n",
       "    </tr>\n",
       "    <tr>\n",
       "      <th>1</th>\n",
       "      <td>4162441</td>\n",
       "      <td>male</td>\n",
       "      <td>16</td>\n",
       "      <td>Student</td>\n",
       "      <td>Sagittarius</td>\n",
       "      <td>\\n\\n\\t \\n         DEAR ANGEL..      you say it...</td>\n",
       "      <td>[183, 8, 9, 0]</td>\n",
       "    </tr>\n",
       "    <tr>\n",
       "      <th>2</th>\n",
       "      <td>4162441</td>\n",
       "      <td>male</td>\n",
       "      <td>16</td>\n",
       "      <td>Student</td>\n",
       "      <td>Sagittarius</td>\n",
       "      <td>\\n\\n\\t \\n      MAIN AUR MERI TANHAI (jagjeet s...</td>\n",
       "      <td>[141, 12, 0, 0]</td>\n",
       "    </tr>\n",
       "    <tr>\n",
       "      <th>3</th>\n",
       "      <td>4162441</td>\n",
       "      <td>male</td>\n",
       "      <td>16</td>\n",
       "      <td>Student</td>\n",
       "      <td>Sagittarius</td>\n",
       "      <td>\\n\\n\\t \\n      mail addressrs(s)  urlLink http...</td>\n",
       "      <td>[37, 1, 0, 0]</td>\n",
       "    </tr>\n",
       "    <tr>\n",
       "      <th>4</th>\n",
       "      <td>4162441</td>\n",
       "      <td>male</td>\n",
       "      <td>16</td>\n",
       "      <td>Student</td>\n",
       "      <td>Sagittarius</td>\n",
       "      <td>\\n\\n\\t \\n      RAP- ALLRISE so stand back caus...</td>\n",
       "      <td>[95, 2, 5, 4]</td>\n",
       "    </tr>\n",
       "  </tbody>\n",
       "</table>\n",
       "</div>"
      ],
      "text/plain": [
       "  author_id   sex age occupation  zodiac_sign  \\\n",
       "0   4162441  male  16    Student  Sagittarius   \n",
       "1   4162441  male  16    Student  Sagittarius   \n",
       "2   4162441  male  16    Student  Sagittarius   \n",
       "3   4162441  male  16    Student  Sagittarius   \n",
       "4   4162441  male  16    Student  Sagittarius   \n",
       "\n",
       "                                                post     all_features  \n",
       "0  \\n\\n\\t \\n         DESTINY...       you might n...  [169, 7, 22, 4]  \n",
       "1  \\n\\n\\t \\n         DEAR ANGEL..      you say it...   [183, 8, 9, 0]  \n",
       "2  \\n\\n\\t \\n      MAIN AUR MERI TANHAI (jagjeet s...  [141, 12, 0, 0]  \n",
       "3  \\n\\n\\t \\n      mail addressrs(s)  urlLink http...    [37, 1, 0, 0]  \n",
       "4  \\n\\n\\t \\n      RAP- ALLRISE so stand back caus...    [95, 2, 5, 4]  "
      ]
     },
     "execution_count": 71,
     "metadata": {},
     "output_type": "execute_result"
    }
   ],
   "source": [
    "posts_df.head()"
   ]
  },
  {
   "cell_type": "code",
   "execution_count": 72,
   "metadata": {},
   "outputs": [],
   "source": [
    "posts_df['token_count'], posts_df['sent_count'], posts_df['pron_count'], posts_df['punct_count'] = zip(*list(posts_df['all_features'].values))"
   ]
  },
  {
   "cell_type": "code",
   "execution_count": 74,
   "metadata": {},
   "outputs": [],
   "source": [
    "posts_df['pron_per_sents'] = posts_df.pron_count / posts_df.sent_count\n",
    "posts_df['pron_per_tokens'] = posts_df.pron_count / posts_df.token_count\n",
    "\n",
    "posts_df['punct_per_sents'] = posts_df.punct_count / posts_df.sent_count\n",
    "posts_df['punct_per_tokens'] = posts_df.punct_count / posts_df.token_count\n"
   ]
  },
  {
   "cell_type": "code",
   "execution_count": 75,
   "metadata": {},
   "outputs": [
    {
     "data": {
      "text/html": [
       "<div>\n",
       "<style scoped>\n",
       "    .dataframe tbody tr th:only-of-type {\n",
       "        vertical-align: middle;\n",
       "    }\n",
       "\n",
       "    .dataframe tbody tr th {\n",
       "        vertical-align: top;\n",
       "    }\n",
       "\n",
       "    .dataframe thead th {\n",
       "        text-align: right;\n",
       "    }\n",
       "</style>\n",
       "<table border=\"1\" class=\"dataframe\">\n",
       "  <thead>\n",
       "    <tr style=\"text-align: right;\">\n",
       "      <th></th>\n",
       "      <th>author_id</th>\n",
       "      <th>sex</th>\n",
       "      <th>age</th>\n",
       "      <th>occupation</th>\n",
       "      <th>zodiac_sign</th>\n",
       "      <th>post</th>\n",
       "      <th>all_features</th>\n",
       "      <th>token_count</th>\n",
       "      <th>sent_count</th>\n",
       "      <th>pron_count</th>\n",
       "      <th>punct_count</th>\n",
       "      <th>pron_per_sents</th>\n",
       "      <th>pron_per_tokens</th>\n",
       "      <th>punct_per_sents</th>\n",
       "      <th>punct_per_tokens</th>\n",
       "    </tr>\n",
       "  </thead>\n",
       "  <tbody>\n",
       "    <tr>\n",
       "      <th>0</th>\n",
       "      <td>4162441</td>\n",
       "      <td>male</td>\n",
       "      <td>16</td>\n",
       "      <td>Student</td>\n",
       "      <td>Sagittarius</td>\n",
       "      <td>\\n\\n\\t \\n         DESTINY...       you might n...</td>\n",
       "      <td>[169, 7, 22, 4]</td>\n",
       "      <td>169</td>\n",
       "      <td>7</td>\n",
       "      <td>22</td>\n",
       "      <td>4</td>\n",
       "      <td>3.142857</td>\n",
       "      <td>0.130178</td>\n",
       "      <td>0.571429</td>\n",
       "      <td>0.023669</td>\n",
       "    </tr>\n",
       "    <tr>\n",
       "      <th>1</th>\n",
       "      <td>4162441</td>\n",
       "      <td>male</td>\n",
       "      <td>16</td>\n",
       "      <td>Student</td>\n",
       "      <td>Sagittarius</td>\n",
       "      <td>\\n\\n\\t \\n         DEAR ANGEL..      you say it...</td>\n",
       "      <td>[183, 8, 9, 0]</td>\n",
       "      <td>183</td>\n",
       "      <td>8</td>\n",
       "      <td>9</td>\n",
       "      <td>0</td>\n",
       "      <td>1.125000</td>\n",
       "      <td>0.049180</td>\n",
       "      <td>0.000000</td>\n",
       "      <td>0.000000</td>\n",
       "    </tr>\n",
       "    <tr>\n",
       "      <th>2</th>\n",
       "      <td>4162441</td>\n",
       "      <td>male</td>\n",
       "      <td>16</td>\n",
       "      <td>Student</td>\n",
       "      <td>Sagittarius</td>\n",
       "      <td>\\n\\n\\t \\n      MAIN AUR MERI TANHAI (jagjeet s...</td>\n",
       "      <td>[141, 12, 0, 0]</td>\n",
       "      <td>141</td>\n",
       "      <td>12</td>\n",
       "      <td>0</td>\n",
       "      <td>0</td>\n",
       "      <td>0.000000</td>\n",
       "      <td>0.000000</td>\n",
       "      <td>0.000000</td>\n",
       "      <td>0.000000</td>\n",
       "    </tr>\n",
       "    <tr>\n",
       "      <th>3</th>\n",
       "      <td>4162441</td>\n",
       "      <td>male</td>\n",
       "      <td>16</td>\n",
       "      <td>Student</td>\n",
       "      <td>Sagittarius</td>\n",
       "      <td>\\n\\n\\t \\n      mail addressrs(s)  urlLink http...</td>\n",
       "      <td>[37, 1, 0, 0]</td>\n",
       "      <td>37</td>\n",
       "      <td>1</td>\n",
       "      <td>0</td>\n",
       "      <td>0</td>\n",
       "      <td>0.000000</td>\n",
       "      <td>0.000000</td>\n",
       "      <td>0.000000</td>\n",
       "      <td>0.000000</td>\n",
       "    </tr>\n",
       "    <tr>\n",
       "      <th>4</th>\n",
       "      <td>4162441</td>\n",
       "      <td>male</td>\n",
       "      <td>16</td>\n",
       "      <td>Student</td>\n",
       "      <td>Sagittarius</td>\n",
       "      <td>\\n\\n\\t \\n      RAP- ALLRISE so stand back caus...</td>\n",
       "      <td>[95, 2, 5, 4]</td>\n",
       "      <td>95</td>\n",
       "      <td>2</td>\n",
       "      <td>5</td>\n",
       "      <td>4</td>\n",
       "      <td>2.500000</td>\n",
       "      <td>0.052632</td>\n",
       "      <td>2.000000</td>\n",
       "      <td>0.042105</td>\n",
       "    </tr>\n",
       "  </tbody>\n",
       "</table>\n",
       "</div>"
      ],
      "text/plain": [
       "  author_id   sex age occupation  zodiac_sign  \\\n",
       "0   4162441  male  16    Student  Sagittarius   \n",
       "1   4162441  male  16    Student  Sagittarius   \n",
       "2   4162441  male  16    Student  Sagittarius   \n",
       "3   4162441  male  16    Student  Sagittarius   \n",
       "4   4162441  male  16    Student  Sagittarius   \n",
       "\n",
       "                                                post     all_features  \\\n",
       "0  \\n\\n\\t \\n         DESTINY...       you might n...  [169, 7, 22, 4]   \n",
       "1  \\n\\n\\t \\n         DEAR ANGEL..      you say it...   [183, 8, 9, 0]   \n",
       "2  \\n\\n\\t \\n      MAIN AUR MERI TANHAI (jagjeet s...  [141, 12, 0, 0]   \n",
       "3  \\n\\n\\t \\n      mail addressrs(s)  urlLink http...    [37, 1, 0, 0]   \n",
       "4  \\n\\n\\t \\n      RAP- ALLRISE so stand back caus...    [95, 2, 5, 4]   \n",
       "\n",
       "   token_count  sent_count  pron_count  punct_count  pron_per_sents  \\\n",
       "0          169           7          22            4        3.142857   \n",
       "1          183           8           9            0        1.125000   \n",
       "2          141          12           0            0        0.000000   \n",
       "3           37           1           0            0        0.000000   \n",
       "4           95           2           5            4        2.500000   \n",
       "\n",
       "   pron_per_tokens  punct_per_sents  punct_per_tokens  \n",
       "0         0.130178         0.571429          0.023669  \n",
       "1         0.049180         0.000000          0.000000  \n",
       "2         0.000000         0.000000          0.000000  \n",
       "3         0.000000         0.000000          0.000000  \n",
       "4         0.052632         2.000000          0.042105  "
      ]
     },
     "execution_count": 75,
     "metadata": {},
     "output_type": "execute_result"
    }
   ],
   "source": [
    "posts_df.head()"
   ]
  },
  {
   "cell_type": "code",
   "execution_count": 86,
   "metadata": {},
   "outputs": [
    {
     "data": {
      "text/plain": [
       "<Axes: >"
      ]
     },
     "execution_count": 86,
     "metadata": {},
     "output_type": "execute_result"
    },
    {
     "data": {
      "image/png": "[encoded data removed]",
      "text/plain": [
       "<Figure size 640x480 with 1 Axes>"
      ]
     },
     "metadata": {},
     "output_type": "display_data"
    }
   ],
   "source": [
    "posts_df[posts_df.token_count < 10000].token_count.hist(bins=100)"
   ]
  },
  {
   "cell_type": "code",
   "execution_count": 87,
   "metadata": {},
   "outputs": [
    {
     "data": {
      "text/plain": [
       "<Axes: >"
      ]
     },
     "execution_count": 87,
     "metadata": {},
     "output_type": "execute_result"
    },
    {
     "data": {
      "image/png": "[encoded data removed]",
      "text/plain": [
       "<Figure size 640x480 with 1 Axes>"
      ]
     },
     "metadata": {},
     "output_type": "display_data"
    }
   ],
   "source": [
    "posts_df.pron_per_tokens.hist(bins=100)"
   ]
  },
  {
   "cell_type": "code",
   "execution_count": 89,
   "metadata": {},
   "outputs": [
    {
     "data": {
      "text/plain": [
       "<Axes: >"
      ]
     },
     "execution_count": 89,
     "metadata": {},
     "output_type": "execute_result"
    },
    {
     "data": {
      "image/png": "[encoded data removed]",
      "text/plain": [
       "<Figure size 640x480 with 1 Axes>"
      ]
     },
     "metadata": {},
     "output_type": "display_data"
    }
   ],
   "source": [
    "posts_df.punct_per_sents.hist(bins=100)"
   ]
  },
  {
   "cell_type": "code",
   "execution_count": null,
   "metadata": {},
   "outputs": [],
   "source": []
  }
 ],
 "metadata": {
  "kernelspec": {
   "display_name": "venv",
   "language": "python",
   "name": "python3"
  },
  "language_info": {
   "codemirror_mode": {
    "name": "ipython",
    "version": 3
   },
   "file_extension": ".py",
   "mimetype": "text/x-python",
   "name": "python",
   "nbconvert_exporter": "python",
   "pygments_lexer": "ipython3",
   "version": "3.10.9"
  },
  "orig_nbformat": 4
 },
 "nbformat": 4,
 "nbformat_minor": 2
}
